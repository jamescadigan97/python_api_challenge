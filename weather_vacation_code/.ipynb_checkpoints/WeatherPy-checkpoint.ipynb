{
 "cells": [
  {
   "cell_type": "markdown",
   "metadata": {},
   "source": [
    "# WeatherPy\n",
    "----\n",
    "\n",
    "#### Note\n",
    "* Instructions have been included for each segment. You do not have to follow them exactly, but they are included to help you think through the steps."
   ]
  },
  {
   "cell_type": "code",
   "execution_count": 1,
   "metadata": {
    "scrolled": true
   },
   "outputs": [],
   "source": [
    "# Dependencies and Setup\n",
    "import matplotlib.pyplot as plt\n",
    "import pandas as pd\n",
    "import numpy as np\n",
    "import requests\n",
    "import time\n",
    "import scipy.stats as st\n",
    "from pprint import pprint\n",
    "\n",
    "# Import API key\n",
    "from api_keys import weather_api_key\n",
    "\n",
    "from citipy import citipy\n",
    "\n",
    "# Output File (CSV)\n",
    "output_data_file = \"output_data/cities.csv\"\n",
    "\n",
    "# Range of latitudes and longitudes\n",
    "lat_range = (-90, 90)\n",
    "lng_range = (-180, 180)"
   ]
  },
  {
   "cell_type": "markdown",
   "metadata": {},
   "source": [
    "## Generate Cities List"
   ]
  },
  {
   "cell_type": "code",
   "execution_count": 2,
   "metadata": {},
   "outputs": [
    {
     "data": {
      "text/plain": [
       "616"
      ]
     },
     "execution_count": 2,
     "metadata": {},
     "output_type": "execute_result"
    }
   ],
   "source": [
    "# List for holding lat_lngs and cities\n",
    "lat_lngs = []\n",
    "cities = []\n",
    "\n",
    "# Create a set of random lat and lng combinations\n",
    "lats = np.random.uniform(lat_range[0], lat_range[1], size=1500)\n",
    "lngs = np.random.uniform(lng_range[0], lng_range[1], size=1500)\n",
    "lat_lngs = zip(lats, lngs)\n",
    "\n",
    "# Identify nearest city for each lat, lng combination\n",
    "for lat_lng in lat_lngs:\n",
    "    city = citipy.nearest_city(lat_lng[0], lat_lng[1]).city_name\n",
    "    \n",
    "    # If the city is unique, then add it to a our cities list\n",
    "    if city not in cities:\n",
    "        cities.append(city)\n",
    "\n",
    "# Print the city count to confirm sufficient count\n",
    "len(cities)\n"
   ]
  },
  {
   "cell_type": "markdown",
   "metadata": {},
   "source": [
    "### Perform API Calls\n",
    "* Perform a weather check on each city using a series of successive API calls.\n",
    "* Include a print log of each city as it'sbeing processed (with the city number and city name).\n"
   ]
  },
  {
   "cell_type": "code",
   "execution_count": 3,
   "metadata": {},
   "outputs": [],
   "source": [
    "#Get create URL\n",
    "url = \"http://api.openweathermap.org/data/2.5/weather?\"\n",
    "units = \"imperial\"\n",
    "query_url = f\"{url}appid={weather_api_key}&units={units}&q=\"\n",
    "\n",
    "#print(query_url)"
   ]
  },
  {
   "cell_type": "code",
   "execution_count": 4,
   "metadata": {},
   "outputs": [
    {
     "name": "stdout",
     "output_type": "stream",
     "text": [
      "Data for chara (2025630) is being retreived\n",
      "Data for ayan (2027316) is being retreived\n",
      "Data for tiznit (2527087) is being retreived\n",
      "Data for hithadhoo (1282256) is being retreived\n",
      "Data for loandjili (2258378) is being retreived\n",
      "Data for sentyabrskiy (NaN) is being retreived\n",
      "Data for aklavik (5882953) is being retreived\n",
      "Data for candido mendes (3403395) is being retreived\n",
      "Data for swan hill (2147756) is being retreived\n",
      "Data for guano (3657594) is being retreived\n",
      "Data for albany (5106841) is being retreived\n",
      "Data for tombouctou (2449066) is being retreived\n",
      "Data for dudinka (1507116) is being retreived\n",
      "Data for mar del plata (3430863) is being retreived\n",
      "Data for rikitea (4030556) is being retreived\n",
      "Data for lebu (3883457) is being retreived\n",
      "Data for iqaluit (5983720) is being retreived\n",
      "Data for cidreira (3466165) is being retreived\n",
      "Data for castro (3466704) is being retreived\n",
      "Data for arraial do cabo (3471451) is being retreived\n",
      "Data for kommunisticheskiy (1502750) is being retreived\n",
      "Data for berezovyy (2026786) is being retreived\n",
      "Data for bluff (2206939) is being retreived\n",
      "Data for ola (2122574) is being retreived\n",
      "Data for padang (1633419) is being retreived\n",
      "Data for tangua (3446974) is being retreived\n",
      "Data for camacha (2270385) is being retreived\n",
      "Data for klyuchi (1503153) is being retreived\n",
      "Data for lodja (211647) is being retreived\n",
      "Data for vila velha (3445026) is being retreived\n",
      "Data for araouane (2460954) is being retreived\n",
      "Data for sao filipe (3374210) is being retreived\n",
      "Data for hermanus (3366880) is being retreived\n",
      "Data for grand centre (NaN) is being retreived\n",
      "Data for ferrol (3123493) is being retreived\n",
      "Data for lavrentiya (4031637) is being retreived\n",
      "Data for san jeronimo (3929611) is being retreived\n",
      "Data for saint-philippe (935215) is being retreived\n",
      "Data for markova (701802) is being retreived\n",
      "Data for tuatapere (2180815) is being retreived\n",
      "Data for taolanaro (NaN) is being retreived\n",
      "Data for oyama (1853483) is being retreived\n",
      "Data for chastoozerye (NaN) is being retreived\n",
      "Data for port alfred (964432) is being retreived\n",
      "Data for cape town (3369157) is being retreived\n",
      "Data for husavik (2629833) is being retreived\n",
      "Data for busselton (2075265) is being retreived\n",
      "Data for hilo (5855927) is being retreived\n",
      "Data for dikson (1507390) is being retreived\n",
      "Data for upernavik (3418910) is being retreived\n",
      "Data for buckeye (5287262) is being retreived\n",
      "Data for mys shmidta (NaN) is being retreived\n",
      "Data for naenwa (NaN) is being retreived\n",
      "Data for makuyuni (155076) is being retreived\n",
      "Data for barrow (5880054) is being retreived\n",
      "Data for artyk (NaN) is being retreived\n",
      "Data for pontianak (1630789) is being retreived\n",
      "Data for qaanaaq (3831208) is being retreived\n",
      "Data for ushuaia (3833367) is being retreived\n",
      "Data for coihaique (3894426) is being retreived\n",
      "Data for marcona (NaN) is being retreived\n",
      "Data for hobart (2163355) is being retreived\n",
      "Data for puerto baquerizo moreno (3652758) is being retreived\n",
      "Data for jackson (5733351) is being retreived\n",
      "Data for jalu (86049) is being retreived\n",
      "Data for ust-ilimsk (2013952) is being retreived\n",
      "Data for kem (551145) is being retreived\n",
      "Data for torbay (6167817) is being retreived\n",
      "Data for souillac (933995) is being retreived\n",
      "Data for richmond (4781708) is being retreived\n",
      "Data for umzimvubu (NaN) is being retreived\n",
      "Data for rehoboth (3353540) is being retreived\n",
      "Data for tasiilaq (3424607) is being retreived\n",
      "Data for clyde river (5924351) is being retreived\n",
      "Data for paracuru (3393115) is being retreived\n",
      "Data for santa cruz (3904906) is being retreived\n",
      "Data for vaini (4032243) is being retreived\n",
      "Data for mandalgovi (2030065) is being retreived\n",
      "Data for sarakhs (1159716) is being retreived\n",
      "Data for havoysund (779622) is being retreived\n",
      "Data for hun (2216645) is being retreived\n",
      "Data for loa janan (1637510) is being retreived\n",
      "Data for chuy (3443061) is being retreived\n",
      "Data for barentsburg (NaN) is being retreived\n",
      "Data for komsomolskiy (1513491) is being retreived\n",
      "Data for garden city (4993659) is being retreived\n",
      "Data for novosheshminsk (517958) is being retreived\n",
      "Data for jamestown (5122534) is being retreived\n",
      "Data for norman wells (6089245) is being retreived\n",
      "Data for jizan (105298) is being retreived\n",
      "Data for provideniya (4031574) is being retreived\n",
      "Data for samalaeulu (NaN) is being retreived\n",
      "Data for sayyan (70979) is being retreived\n",
      "Data for new norfolk (2155415) is being retreived\n",
      "Data for gladstone (2165478) is being retreived\n",
      "Data for walvis bay (3359638) is being retreived\n",
      "Data for polson (5671996) is being retreived\n",
      "Data for tessalit (2449893) is being retreived\n",
      "Data for mataura (6201424) is being retreived\n",
      "Data for fare (4034496) is being retreived\n",
      "Data for yellowknife (6185377) is being retreived\n",
      "Data for bardiyah (80509) is being retreived\n",
      "Data for thompson (6165406) is being retreived\n",
      "Data for faanui (4034551) is being retreived\n",
      "Data for san vicente (3428068) is being retreived\n",
      "Data for kabin buri (1610538) is being retreived\n",
      "Data for punta arenas (3874787) is being retreived\n",
      "Data for laguna (5364271) is being retreived\n",
      "Data for praia da vitoria (3372760) is being retreived\n",
      "Data for san patricio (3985168) is being retreived\n",
      "Data for surt (2210554) is being retreived\n",
      "Data for tiksi (2015306) is being retreived\n",
      "Data for geraldton (2070998) is being retreived\n",
      "Data for kayerkan (1497337) is being retreived\n",
      "Data for atuona (4020109) is being retreived\n",
      "Data for avarua (4035715) is being retreived\n",
      "Data for saskylakh (2017155) is being retreived\n",
      "Data for lompoc (5367788) is being retreived\n",
      "Data for touros (3386213) is being retreived\n",
      "Data for zhicheng (1784554) is being retreived\n",
      "Data for smithers (6149996) is being retreived\n",
      "Data for bengkulu (1649150) is being retreived\n",
      "Data for atasu (1526041) is being retreived\n",
      "Data for bethel (5282297) is being retreived\n",
      "Data for ribeira grande (3372707) is being retreived\n",
      "Data for belushya guba (NaN) is being retreived\n",
      "Data for riyadh (108410) is being retreived\n",
      "Data for kastamonu (743881) is being retreived\n",
      "Data for pachino (6539213) is being retreived\n",
      "Data for panchagarh (1185141) is being retreived\n",
      "Data for tezu (1254709) is being retreived\n",
      "Data for westport (4845585) is being retreived\n",
      "Data for saldanha (3361934) is being retreived\n",
      "Data for bahia honda (3567995) is being retreived\n",
      "Data for deputatskiy (2028164) is being retreived\n",
      "Data for maragogi (3395458) is being retreived\n",
      "Data for oktyabrskoye (515805) is being retreived\n",
      "Data for tsihombe (NaN) is being retreived\n",
      "Data for ghanzi (933759) is being retreived\n",
      "Data for mulanur (1262567) is being retreived\n",
      "Data for saint george (5546220) is being retreived\n",
      "Data for pevek (2122090) is being retreived\n",
      "Data for kodiak (5866583) is being retreived\n",
      "Data for ostrovnoy (556268) is being retreived\n",
      "Data for shaunavon (6145425) is being retreived\n",
      "Data for krasnoselkup (1502073) is being retreived\n",
      "Data for kapaa (5848280) is being retreived\n",
      "Data for tuktoyaktuk (6170031) is being retreived\n",
      "Data for funtua (2342490) is being retreived\n",
      "Data for airai (1651810) is being retreived\n",
      "Data for gat (293842) is being retreived\n",
      "Data for agadez (2448083) is being retreived\n",
      "Data for miles city (5666176) is being retreived\n",
      "Data for cururupu (3401148) is being retreived\n",
      "Data for high rock (3572189) is being retreived\n",
      "Data for keti bandar (1174451) is being retreived\n",
      "Data for richards bay (962367) is being retreived\n",
      "Data for klaksvik (2618795) is being retreived\n",
      "Data for asht (NaN) is being retreived\n",
      "Data for ijaki (NaN) is being retreived\n",
      "Data for ilulissat (3423146) is being retreived\n",
      "Data for iquique (3887127) is being retreived\n",
      "Data for butaritari (2110227) is being retreived\n",
      "Data for vila franca do campo (3372472) is being retreived\n",
      "Data for east london (1006984) is being retreived\n",
      "Data for xiangxiang (1790471) is being retreived\n",
      "Data for namibe (3347019) is being retreived\n",
      "Data for khatanga (2022572) is being retreived\n",
      "Data for atar (2381334) is being retreived\n",
      "Data for ico (3398379) is being retreived\n",
      "Data for antofagasta (3899539) is being retreived\n",
      "Data for rawson (3839307) is being retreived\n",
      "Data for almaznyy (582447) is being retreived\n",
      "Data for carnarvon (2074865) is being retreived\n",
      "Data for omsukchan (2122493) is being retreived\n",
      "Data for port hardy (6111862) is being retreived\n",
      "Data for fairbanks (5861897) is being retreived\n",
      "Data for bolungarvik (NaN) is being retreived\n"
     ]
    },
    {
     "name": "stdout",
     "output_type": "stream",
     "text": [
      "Data for bambous virieux (1106677) is being retreived\n",
      "Data for rio gallegos (3838859) is being retreived\n",
      "Data for goma (216281) is being retreived\n",
      "Data for acapulco (3533462) is being retreived\n",
      "Data for mareeba (2158767) is being retreived\n",
      "Data for shimoda (1852357) is being retreived\n",
      "Data for georgetown (1735106) is being retreived\n",
      "Data for pangnirtung (6096551) is being retreived\n",
      "Data for saleaula (NaN) is being retreived\n",
      "Data for sao jose da coroa grande (3388456) is being retreived\n",
      "Data for rania (1258477) is being retreived\n",
      "Data for victoria (1819729) is being retreived\n",
      "Data for lagoa (3372964) is being retreived\n",
      "Data for puerto ayora (3652764) is being retreived\n",
      "Data for bredasdorp (1015776) is being retreived\n",
      "Data for reyes (3906478) is being retreived\n",
      "Data for los llanos de aridane (2514651) is being retreived\n",
      "Data for igrim (1505965) is being retreived\n",
      "Data for kaitangata (2208248) is being retreived\n",
      "Data for berndorf (2781837) is being retreived\n",
      "Data for setermoen (3139765) is being retreived\n",
      "Data for mount gambier (2156643) is being retreived\n",
      "Data for kununurra (2068110) is being retreived\n",
      "Data for sunrise manor (5513343) is being retreived\n",
      "Data for portland (5746545) is being retreived\n",
      "Data for nizhneyansk (NaN) is being retreived\n",
      "Data for sitka (5557293) is being retreived\n",
      "Data for tautira (4033557) is being retreived\n",
      "Data for oranjemund (3354071) is being retreived\n",
      "Data for sirisia (NaN) is being retreived\n",
      "Data for pathein (1328421) is being retreived\n",
      "Data for harper (2276492) is being retreived\n",
      "Data for athabasca (5887916) is being retreived\n",
      "Data for jieshou (1805844) is being retreived\n",
      "Data for te anau (2181625) is being retreived\n",
      "Data for matadi (2313002) is being retreived\n",
      "Data for nabire (1634614) is being retreived\n",
      "Data for sioux lookout (6148373) is being retreived\n",
      "Data for caravelas (3466980) is being retreived\n",
      "Data for suksun (486413) is being retreived\n",
      "Data for sibolga (1213855) is being retreived\n",
      "Data for nouadhibou (2377457) is being retreived\n",
      "Data for tual (1623197) is being retreived\n",
      "Data for belaya gora (2126785) is being retreived\n",
      "Data for poum (2138555) is being retreived\n",
      "Data for tabiauea (NaN) is being retreived\n",
      "Data for tazovskiy (1489853) is being retreived\n",
      "Data for preobrazheniye (2017658) is being retreived\n",
      "Data for louisbourg (NaN) is being retreived\n",
      "Data for merauke (2082539) is being retreived\n",
      "Data for ancud (3899695) is being retreived\n",
      "Data for mogadishu (53654) is being retreived\n",
      "Data for lexington park (4360592) is being retreived\n",
      "Data for swinoujscie (3083955) is being retreived\n",
      "Data for san lorenzo (3437056) is being retreived\n",
      "Data for pochutla (3517970) is being retreived\n",
      "Data for gazojak (1514792) is being retreived\n",
      "Data for meadow lake (5478673) is being retreived\n",
      "Data for berlevag (780687) is being retreived\n",
      "Data for tidore (NaN) is being retreived\n",
      "Data for constitucion (3893726) is being retreived\n",
      "Data for ucluelet (6171633) is being retreived\n",
      "Data for atlantic beach (4146354) is being retreived\n",
      "Data for saint-francois (2980080) is being retreived\n",
      "Data for port elizabeth (964420) is being retreived\n",
      "Data for bozeman (5641727) is being retreived\n",
      "Data for roald (3141667) is being retreived\n",
      "Data for tingrela (NaN) is being retreived\n",
      "Data for chicama (3698359) is being retreived\n",
      "Data for ewa beach (5855051) is being retreived\n",
      "Data for cairns (2172797) is being retreived\n",
      "Data for brodokalmak (1508802) is being retreived\n",
      "Data for avera (4231997) is being retreived\n",
      "Data for zhemchuzhnyy (NaN) is being retreived\n",
      "Data for russell (4047434) is being retreived\n",
      "Data for talnakh (1490256) is being retreived\n",
      "Data for correntina (3465373) is being retreived\n",
      "Data for illoqqortoormiut (NaN) is being retreived\n",
      "Data for grand gaube (934479) is being retreived\n",
      "Data for kulhudhuffushi (1337613) is being retreived\n",
      "Data for coolum beach (2170581) is being retreived\n",
      "Data for shillong (1256523) is being retreived\n",
      "Data for college (5859699) is being retreived\n",
      "Data for takoradi (2294915) is being retreived\n",
      "Data for amapa (3407762) is being retreived\n",
      "Data for burnie (2173125) is being retreived\n",
      "Data for gurupi (3461724) is being retreived\n",
      "Data for rocha (3440777) is being retreived\n",
      "Data for umm kaddadah (364933) is being retreived\n",
      "Data for longyearbyen (2729907) is being retreived\n",
      "Data for mount isa (2065594) is being retreived\n",
      "Data for lerwick (2644605) is being retreived\n",
      "Data for cockburn town (3576994) is being retreived\n",
      "Data for yinchuan (1786657) is being retreived\n",
      "Data for kikwit (2314705) is being retreived\n",
      "Data for parintins (3393008) is being retreived\n",
      "Data for attawapiskat (NaN) is being retreived\n",
      "Data for ponta do sol (2264557) is being retreived\n",
      "Data for port hedland (2063042) is being retreived\n",
      "Data for samusu (NaN) is being retreived\n",
      "Data for sobolevo (525426) is being retreived\n",
      "Data for broome (5110365) is being retreived\n",
      "Data for ust-kuyga (2013921) is being retreived\n",
      "Data for huarmey (3939168) is being retreived\n",
      "Data for kobryn (627145) is being retreived\n",
      "Data for puerto escondido (3520994) is being retreived\n",
      "Data for pisco (3932145) is being retreived\n",
      "Data for moscow (524901) is being retreived\n",
      "Data for madang (2091996) is being retreived\n",
      "Data for hammerfest (779683) is being retreived\n",
      "Data for kargasok (1504382) is being retreived\n",
      "Data for arauca (3689718) is being retreived\n",
      "Data for bundaberg (2173323) is being retreived\n",
      "Data for tolaga bay (2180991) is being retreived\n",
      "Data for sur (286245) is being retreived\n",
      "Data for payson (5779548) is being retreived\n",
      "Data for karratha (6620339) is being retreived\n",
      "Data for naze (1855540) is being retreived\n",
      "Data for flinders (6255012) is being retreived\n",
      "Data for zhanatas (NaN) is being retreived\n",
      "Data for adrar (2381972) is being retreived\n",
      "Data for palmerston north (2185018) is being retreived\n",
      "Data for penzance (2640377) is being retreived\n",
      "Data for port shepstone (964406) is being retreived\n",
      "Data for tura (1254046) is being retreived\n",
      "Data for progreso (3521108) is being retreived\n",
      "Data for mamakan (2020311) is being retreived\n",
      "Data for asau (686090) is being retreived\n",
      "Data for general roca (3855065) is being retreived\n",
      "Data for tymovskoye (2120334) is being retreived\n",
      "Data for saint-louis (2246451) is being retreived\n",
      "Data for yar-sale (1486321) is being retreived\n",
      "Data for lufilufi (4035249) is being retreived\n",
      "Data for itarema (3393692) is being retreived\n",
      "Data for banda aceh (1215502) is being retreived\n",
      "Data for sao joao da barra (3448903) is being retreived\n",
      "Data for camargo (4013724) is being retreived\n",
      "Data for makokou (2399371) is being retreived\n",
      "Data for raudeberg (3146487) is being retreived\n",
      "Data for awjilah (88533) is being retreived\n",
      "Data for taoudenni (2450173) is being retreived\n",
      "Data for digal (1714970) is being retreived\n",
      "Data for khasan (2039557) is being retreived\n",
      "Data for baykit (1510689) is being retreived\n",
      "Data for koster (987648) is being retreived\n",
      "Data for kontagora (2334008) is being retreived\n",
      "Data for khalki (260144) is being retreived\n",
      "Data for sztum (3083616) is being retreived\n",
      "Data for kloulklubed (7671223) is being retreived\n",
      "Data for buston (1514913) is being retreived\n",
      "Data for murgab (1218612) is being retreived\n",
      "Data for ust-koksa (1488167) is being retreived\n",
      "Data for vaitupu (NaN) is being retreived\n",
      "Data for alugan (1731248) is being retreived\n",
      "Data for highland springs (4764127) is being retreived\n",
      "Data for namatanai (2090021) is being retreived\n",
      "Data for grand river south east (NaN) is being retreived\n",
      "Data for evensk (2125693) is being retreived\n",
      "Data for trabzon (738647) is being retreived\n",
      "Data for krasnoturinsk (1502061) is being retreived\n",
      "Data for mahebourg (934322) is being retreived\n",
      "Data for vidim (2013406) is being retreived\n",
      "Data for nelson bay (2155562) is being retreived\n",
      "Data for kruisfontein (986717) is being retreived\n",
      "Data for price (5545269) is being retreived\n",
      "Data for bandarbeyla (64814) is being retreived\n",
      "Data for henties bay (3356832) is being retreived\n",
      "Data for sahuaripa (3988265) is being retreived\n",
      "Data for hasaki (2112802) is being retreived\n",
      "Data for altay (1529651) is being retreived\n",
      "Data for brindisi (3181526) is being retreived\n",
      "Data for nanakuli (5851349) is being retreived\n",
      "Data for pujili (3652684) is being retreived\n",
      "Data for nikolskoye (546105) is being retreived\n"
     ]
    },
    {
     "name": "stdout",
     "output_type": "stream",
     "text": [
      "Data for luderitz (3355672) is being retreived\n",
      "Data for mao (2514301) is being retreived\n",
      "Data for miandoab (124085) is being retreived\n",
      "Data for neryungri (2019309) is being retreived\n",
      "Data for yumen (1528998) is being retreived\n",
      "Data for northam (2641434) is being retreived\n",
      "Data for sovetskiy (1491230) is being retreived\n",
      "Data for san cristobal (3628473) is being retreived\n",
      "Data for road town (3577430) is being retreived\n",
      "Data for montevideo (3441575) is being retreived\n",
      "Data for port blair (1259385) is being retreived\n",
      "Data for salobrena (2511503) is being retreived\n",
      "Data for bongouanou (2291113) is being retreived\n",
      "Data for alice springs (2077895) is being retreived\n",
      "Data for kurilsk (2123979) is being retreived\n",
      "Data for margate (2643044) is being retreived\n",
      "Data for igarka (1505991) is being retreived\n",
      "Data for labytnangi (1500933) is being retreived\n",
      "Data for kaitong (2036338) is being retreived\n",
      "Data for saint-pierre (935214) is being retreived\n",
      "Data for bontang (1648186) is being retreived\n",
      "Data for huilong (1806840) is being retreived\n",
      "Data for mayo (4362001) is being retreived\n",
      "Data for ambilobe (1082243) is being retreived\n",
      "Data for elizabeth city (4465088) is being retreived\n",
      "Data for esperance (2071860) is being retreived\n",
      "Data for general pico (3855075) is being retreived\n",
      "Data for korla (1529376) is being retreived\n",
      "Data for kavieng (2094342) is being retreived\n",
      "Data for sisimiut (3419842) is being retreived\n",
      "Data for acajutla (3587498) is being retreived\n",
      "Data for nkhotakota (924705) is being retreived\n",
      "Data for ouango (236844) is being retreived\n",
      "Data for tsiroanomandidy (1054463) is being retreived\n",
      "Data for biograd na moru (3204121) is being retreived\n",
      "Data for ahuimanu (5856516) is being retreived\n",
      "Data for mankachar (1263678) is being retreived\n",
      "Data for landau (2881646) is being retreived\n",
      "Data for himora (NaN) is being retreived\n",
      "Data for carsamba (749704) is being retreived\n",
      "Data for san borja (3905792) is being retreived\n",
      "Data for peleduy (2018069) is being retreived\n",
      "Data for chumikan (2025256) is being retreived\n",
      "Data for hobyo (57000) is being retreived\n",
      "Data for tilichiki (2120591) is being retreived\n",
      "Data for antakya (323779) is being retreived\n",
      "Data for kuznechnoye (537740) is being retreived\n",
      "Data for guerrero negro (4021858) is being retreived\n",
      "Data for buala (2109528) is being retreived\n",
      "Data for beringovskiy (2126710) is being retreived\n",
      "Data for salalah (286621) is being retreived\n",
      "Data for cacador (3468570) is being retreived\n",
      "Data for alberton (5883166) is being retreived\n",
      "Data for lethem (3379316) is being retreived\n",
      "Data for christchurch (2192362) is being retreived\n",
      "Data for salina (4278890) is being retreived\n",
      "Data for saint-augustin (6137462) is being retreived\n",
      "Data for itoman (1861280) is being retreived\n",
      "Data for nantucket (4944903) is being retreived\n",
      "Data for juwana (1642317) is being retreived\n",
      "Data for orsha (624079) is being retreived\n",
      "Data for galati (677697) is being retreived\n",
      "Data for rolim de moura (NaN) is being retreived\n",
      "Data for shihezi (1529195) is being retreived\n",
      "Data for falkenberg (2715573) is being retreived\n",
      "Data for lexington (4297983) is being retreived\n",
      "Data for maryborough (2158562) is being retreived\n",
      "Data for cabo san lucas (3985710) is being retreived\n",
      "Data for chifeng (2038067) is being retreived\n",
      "Data for hagere selam (335286) is being retreived\n",
      "Data for olesno (3090158) is being retreived\n",
      "Data for hohhot (2036892) is being retreived\n",
      "Data for balimo (NaN) is being retreived\n",
      "Data for bereda (3105522) is being retreived\n",
      "Data for lorengau (2092164) is being retreived\n",
      "Data for sabang (1214026) is being retreived\n",
      "Data for lander (5830007) is being retreived\n",
      "Data for antalaha (1071296) is being retreived\n",
      "Data for bhan (1182775) is being retreived\n",
      "Data for turukhansk (1488903) is being retreived\n",
      "Data for kieta (2094027) is being retreived\n",
      "Data for utena (593672) is being retreived\n",
      "Data for broken hill (2173911) is being retreived\n",
      "Data for cayenne (3382160) is being retreived\n",
      "Data for atbasar (1526038) is being retreived\n",
      "Data for faya (110690) is being retreived\n",
      "Data for cherskiy (2126199) is being retreived\n",
      "Data for sao felix do xingu (3388847) is being retreived\n",
      "Data for ust-barguzin (2013986) is being retreived\n",
      "Data for kapoeta (372884) is being retreived\n",
      "Data for rabo de peixe (3372745) is being retreived\n",
      "Data for chokwe (1048364) is being retreived\n",
      "Data for seoul (1835848) is being retreived\n",
      "Data for reitz (962847) is being retreived\n",
      "Data for kamaishi (2112444) is being retreived\n",
      "Data for vernon (6173864) is being retreived\n",
      "Data for svetlogorsk (10722858) is being retreived\n",
      "Data for san ignacio (3581194) is being retreived\n",
      "Data for kattivakkam (1267433) is being retreived\n",
      "Data for la ronge (6050066) is being retreived\n",
      "Data for togur (1489499) is being retreived\n",
      "Data for bend (5713587) is being retreived\n",
      "Data for nakapiripirit (448226) is being retreived\n",
      "Data for santa ines (3389609) is being retreived\n",
      "Data for syriam (1295395) is being retreived\n",
      "Data for teknaf (1185095) is being retreived\n",
      "Data for qurayyat (108648) is being retreived\n",
      "Data for inhambane (1045114) is being retreived\n",
      "Data for caconda (3351380) is being retreived\n",
      "Data for tokonou (2414659) is being retreived\n",
      "Data for kholmogory (549748) is being retreived\n",
      "Data for belyy yar (1510377) is being retreived\n",
      "Data for nicoya (3622716) is being retreived\n",
      "Data for chokurdakh (2126123) is being retreived\n",
      "Data for dunedin (2191562) is being retreived\n",
      "Data for caluquembe (3351024) is being retreived\n",
      "Data for isfana (1222662) is being retreived\n",
      "Data for ayacucho (3947019) is being retreived\n",
      "Data for pacific grove (5380437) is being retreived\n",
      "Data for sebinkarahisar (739914) is being retreived\n",
      "Data for voisiku (NaN) is being retreived\n",
      "Data for teya (1489656) is being retreived\n",
      "Data for borujan (NaN) is being retreived\n",
      "Data for okhotsk (2122605) is being retreived\n",
      "Data for karaul (NaN) is being retreived\n",
      "Data for guaratinga (3461860) is being retreived\n",
      "Data for port lincoln (2063036) is being retreived\n",
      "Data for foz (3122172) is being retreived\n",
      "Data for batemans bay (2176639) is being retreived\n",
      "Data for rundu (3353383) is being retreived\n",
      "Data for bulawayo (894701) is being retreived\n",
      "Data for aksu (1529660) is being retreived\n",
      "Data for yayva (468560) is being retreived\n",
      "Data for kafanchan (2335713) is being retreived\n",
      "Data for coahuayana (4013679) is being retreived\n",
      "Data for moranbah (6533368) is being retreived\n",
      "Data for amderma (NaN) is being retreived\n",
      "Data for vao (2137773) is being retreived\n",
      "Data for newberry (4589207) is being retreived\n",
      "Data for petropavlovsk-kamchatskiy (2122104) is being retreived\n",
      "Data for ornskoldsvik (2686469) is being retreived\n",
      "Data for chuzhou (1814757) is being retreived\n",
      "Data for nome (5870133) is being retreived\n",
      "Data for sertania (3387663) is being retreived\n",
      "Data for kahului (5847411) is being retreived\n",
      "Data for partizansk (2018116) is being retreived\n",
      "Data for yarada (1252783) is being retreived\n",
      "Data for talcahuano (3870282) is being retreived\n",
      "Data for borger (2758621) is being retreived\n",
      "Data for maldonado (3441890) is being retreived\n",
      "Data for tefe (3661944) is being retreived\n",
      "Data for imbituba (3461370) is being retreived\n",
      "Data for dingle (1714733) is being retreived\n",
      "Data for beloha (1067565) is being retreived\n",
      "Data for sorong (1626542) is being retreived\n",
      "Data for ambagarh chauki (1278869) is being retreived\n",
      "Data for jian (1806445) is being retreived\n",
      "Data for tupik (2014836) is being retreived\n",
      "Data for aztec (5456049) is being retreived\n",
      "Data for kimbe (2093967) is being retreived\n",
      "Data for grindavik (3416888) is being retreived\n",
      "Data for marihatag (1700933) is being retreived\n",
      "Data for sept-iles (6144312) is being retreived\n",
      "Data for matagami (6067747) is being retreived\n",
      "Data for dzhusaly (NaN) is being retreived\n",
      "Data for palabuhanratu (NaN) is being retreived\n",
      "Data for the pas (6164499) is being retreived\n",
      "Data for qingdao (1797929) is being retreived\n",
      "Data for bosaso (64013) is being retreived\n",
      "Data for neiafu (4032420) is being retreived\n",
      "Data for bell ville (3864331) is being retreived\n",
      "Data for shingu (1847947) is being retreived\n",
      "Data for mezen (527321) is being retreived\n",
      "Data for chapleau (5919915) is being retreived\n",
      "Data for kiama (2161515) is being retreived\n",
      "Data for constantine (2501152) is being retreived\n",
      "Data for severodvinsk (496285) is being retreived\n"
     ]
    },
    {
     "name": "stdout",
     "output_type": "stream",
     "text": [
      "Data for severo-kurilsk (2121385) is being retreived\n",
      "Data for leh (1264976) is being retreived\n",
      "Data for bokspits (NaN) is being retreived\n",
      "Data for kamenskoye (NaN) is being retreived\n",
      "Data for magadan (2123628) is being retreived\n",
      "Data for zabaykalsk (2012780) is being retreived\n",
      "Data for uyutne (690556) is being retreived\n",
      "Data for ankang (1789065) is being retreived\n",
      "Data for axim (2303611) is being retreived\n",
      "Data for ust-maya (2013918) is being retreived\n",
      "Data for mucuri (3456593) is being retreived\n",
      "Data for katsuura (2112309) is being retreived\n",
      "Data for ponta delgada (3372783) is being retreived\n",
      "Data for sierra vista (5314328) is being retreived\n",
      "Data for asosa (343292) is being retreived\n",
      "Data for telimele (2414925) is being retreived\n",
      "Data for ruidoso (5488598) is being retreived\n",
      "Data for port-gentil (2396518) is being retreived\n",
      "Data for urdoma (478769) is being retreived\n",
      "Data for tiarei (4033356) is being retreived\n",
      "Data for whitley bay (2634032) is being retreived\n",
      "Data for codrington (2171099) is being retreived\n",
      "Data for rodrigues alves (3665210) is being retreived\n",
      "Data for tchollire (2221607) is being retreived\n",
      "Data for kyra (2021041) is being retreived\n",
      "Data for quelimane (1028434) is being retreived\n",
      "Data for sambava (1056899) is being retreived\n",
      "Data for ketchikan (5554428) is being retreived\n",
      "Data for karatau (1519938) is being retreived\n",
      "Data for navolato (3995017) is being retreived\n",
      "Data for necochea (3430443) is being retreived\n",
      "Data for vostok (2013279) is being retreived\n",
      "Data for iranshahr (1160939) is being retreived\n",
      "Data for sabha (2212775) is being retreived\n",
      "Data for cap-aux-meules (5915327) is being retreived\n",
      "Data for hokitika (2206894) is being retreived\n",
      "Data for waingapu (1622318) is being retreived\n",
      "Data for jacqueville (2287778) is being retreived\n",
      "Data for csomor (3053971) is being retreived\n",
      "Data for salinopolis (3389822) is being retreived\n",
      "Data for port hawkesbury (6111867) is being retreived\n",
      "Data for pingliang (1798760) is being retreived\n",
      "Data for severnyy-kospashskiy (496307) is being retreived\n",
      "Data for lota (3881276) is being retreived\n",
      "Data for cabra (2520645) is being retreived\n",
      "Data for soldotna (5874678) is being retreived\n",
      "Data for mehamn (778707) is being retreived\n",
      "Data for hattiesburg (4429295) is being retreived\n",
      "Data for zonguldak (737021) is being retreived\n",
      "Data for malpe (1264037) is being retreived\n",
      "Data for moelv (3145689) is being retreived\n",
      "Data for emerald (2167426) is being retreived\n",
      "Data for krasnoborsk (542423) is being retreived\n",
      "Data for cartagena (3687238) is being retreived\n",
      "Data for victor harbor (2059470) is being retreived\n",
      "Data for fortuna (5563839) is being retreived\n",
      "Data for balta (712886) is being retreived\n",
      "Data for barra do garcas (3470709) is being retreived\n",
      "Data for orapa (933186) is being retreived\n",
      "Data for maloshuyka (NaN) is being retreived\n",
      "Data for kananga (214481) is being retreived\n",
      "Data for kathmandu (1283240) is being retreived\n",
      "Data for abu samrah (172515) is being retreived\n",
      "Data for nuuk (3421319) is being retreived\n",
      "Data for harlingen (4696233) is being retreived\n",
      "Data for bengkalis (NaN) is being retreived\n",
      "Data for ossora (2122389) is being retreived\n",
      "Data for formoso do araguaia (NaN) is being retreived\n",
      "Data for kalemie (214974) is being retreived\n",
      "Data for harfleur (3013922) is being retreived\n",
      "Data for labuhan (8079926) is being retreived\n",
      "Data for thinadhoo (1337610) is being retreived\n",
      "Data for guasdualito (3804949) is being retreived\n",
      "Data for kabansk (2023350) is being retreived\n",
      "Data for orlik (1496073) is being retreived\n",
      "Data for vannes (2970775) is being retreived\n",
      "Data for shahrud (135423) is being retreived\n",
      "Data for halalo (NaN) is being retreived\n",
      "Data for taltal (3870243) is being retreived\n",
      "Data for buin (3897774) is being retreived\n",
      "Data for eha amufu (2343822) is being retreived\n",
      "Data for livramento (3663517) is being retreived\n",
      "Data for wanaka (2184707) is being retreived\n",
      "Data for carthage (2468245) is being retreived\n",
      "Data for vardo (777019) is being retreived\n",
      "Data for losevo (534073) is being retreived\n",
      "Data for merrill (5262680) is being retreived\n"
     ]
    }
   ],
   "source": [
    "#Create lists to hold variables\n",
    "city_num = []\n",
    "lat_ = []\n",
    "lng = []\n",
    "temp_max = []\n",
    "hum = []\n",
    "cloud = []\n",
    "wind = []\n",
    "country = []\n",
    "date = []\n",
    "\n",
    "#Cycle through city list, appending data to list\n",
    "#Create Try/Except blocks to allow the program to run despite missing data\n",
    "for city in cities:\n",
    "\n",
    "    response = requests.get(query_url + city).json()\n",
    "    try:\n",
    "        city_num.append(response['id'])\n",
    "    except KeyError:\n",
    "        city_num.append(pd.NA)\n",
    "    try:\n",
    "        lat_.append(response['coord']['lat'])\n",
    "    except KeyError:\n",
    "        lat_.append(pd.NA)\n",
    "    try:\n",
    "        lng.append(response['coord']['lon'])\n",
    "    except KeyError:\n",
    "        lng.append(pd.NA)\n",
    "    try:\n",
    "        temp_max.append(response['main']['temp_max'])\n",
    "    except KeyError:\n",
    "        temp_max.append(pd.NA)\n",
    "    try:\n",
    "        hum.append(response['main']['humidity'])\n",
    "    except KeyError:\n",
    "        hum.append(pd.NA)\n",
    "    try:   \n",
    "        cloud.append(response['clouds']['all'])\n",
    "    except KeyError:\n",
    "        cloud.append(pd.NA)\n",
    "    try:    \n",
    "        wind.append(response['wind']['speed'])\n",
    "    except KeyError:\n",
    "        wind.append(pd.NA)\n",
    "    try:    \n",
    "        country.append(response['sys']['country'])\n",
    "    except KeyError:\n",
    "        country.append(pd.NA)\n",
    "    try:    \n",
    "        date.append(response[\"dt\"])\n",
    "    except KeyError:\n",
    "        date.append(pd.NA)\n",
    "    try: \n",
    "        citynum = (response['id'])\n",
    "    except KeyError:\n",
    "        citynum = (\"NaN\")\n",
    "#Show data being accepted        \n",
    "    print(f'Data for {city} ({citynum}) is being retreived')\n"
   ]
  },
  {
   "cell_type": "markdown",
   "metadata": {},
   "source": [
    "### Convert Raw Data to DataFrame\n",
    "* Export the city data into a .csv.\n",
    "* Display the DataFrame"
   ]
  },
  {
   "cell_type": "code",
   "execution_count": 5,
   "metadata": {},
   "outputs": [],
   "source": [
    "#Create Dataframe using lists\n",
    "weather_data = {\"City Name\": cities, \n",
    "        'Latitude': lat_,\n",
    "        'Longitude': lng,\n",
    "        'Maximum Temperature': temp_max,\n",
    "        'Humidity': hum,\n",
    "        'Cloudiness': cloud,\n",
    "        'Wind Speed': wind,\n",
    "        'Country': country,\n",
    "        'Date': date }\n",
    "\n",
    "\n",
    "city_data = pd.DataFrame (weather_data, columns = ['City Name', 'Latitude' ,'Longitude', \n",
    "       'Maximum Temperature', 'Humidity', 'Cloudiness', 'Wind Speed', 'Country','Date'])"
   ]
  },
  {
   "cell_type": "code",
   "execution_count": 6,
   "metadata": {},
   "outputs": [
    {
     "data": {
      "text/html": [
       "<div>\n",
       "<style scoped>\n",
       "    .dataframe tbody tr th:only-of-type {\n",
       "        vertical-align: middle;\n",
       "    }\n",
       "\n",
       "    .dataframe tbody tr th {\n",
       "        vertical-align: top;\n",
       "    }\n",
       "\n",
       "    .dataframe thead th {\n",
       "        text-align: right;\n",
       "    }\n",
       "</style>\n",
       "<table border=\"1\" class=\"dataframe\">\n",
       "  <thead>\n",
       "    <tr style=\"text-align: right;\">\n",
       "      <th></th>\n",
       "      <th>City Name</th>\n",
       "      <th>Latitude</th>\n",
       "      <th>Longitude</th>\n",
       "      <th>Maximum Temperature</th>\n",
       "      <th>Humidity</th>\n",
       "      <th>Cloudiness</th>\n",
       "      <th>Wind Speed</th>\n",
       "      <th>Country</th>\n",
       "      <th>Date</th>\n",
       "    </tr>\n",
       "  </thead>\n",
       "  <tbody>\n",
       "    <tr>\n",
       "      <th>0</th>\n",
       "      <td>chara</td>\n",
       "      <td>56.91</td>\n",
       "      <td>118.26</td>\n",
       "      <td>57.49</td>\n",
       "      <td>66</td>\n",
       "      <td>100</td>\n",
       "      <td>5.19</td>\n",
       "      <td>RU</td>\n",
       "      <td>1595299548</td>\n",
       "    </tr>\n",
       "    <tr>\n",
       "      <th>1</th>\n",
       "      <td>ayan</td>\n",
       "      <td>56.45</td>\n",
       "      <td>138.17</td>\n",
       "      <td>52.38</td>\n",
       "      <td>94</td>\n",
       "      <td>100</td>\n",
       "      <td>15.39</td>\n",
       "      <td>RU</td>\n",
       "      <td>1595299548</td>\n",
       "    </tr>\n",
       "    <tr>\n",
       "      <th>2</th>\n",
       "      <td>tiznit</td>\n",
       "      <td>29.58</td>\n",
       "      <td>-9.5</td>\n",
       "      <td>71.1</td>\n",
       "      <td>52</td>\n",
       "      <td>1</td>\n",
       "      <td>1.77</td>\n",
       "      <td>MA</td>\n",
       "      <td>1595299549</td>\n",
       "    </tr>\n",
       "    <tr>\n",
       "      <th>3</th>\n",
       "      <td>hithadhoo</td>\n",
       "      <td>-0.6</td>\n",
       "      <td>73.08</td>\n",
       "      <td>84.02</td>\n",
       "      <td>77</td>\n",
       "      <td>100</td>\n",
       "      <td>11.52</td>\n",
       "      <td>MV</td>\n",
       "      <td>1595299549</td>\n",
       "    </tr>\n",
       "    <tr>\n",
       "      <th>4</th>\n",
       "      <td>loandjili</td>\n",
       "      <td>-4.76</td>\n",
       "      <td>11.86</td>\n",
       "      <td>71.33</td>\n",
       "      <td>89</td>\n",
       "      <td>39</td>\n",
       "      <td>2.55</td>\n",
       "      <td>CG</td>\n",
       "      <td>1595299549</td>\n",
       "    </tr>\n",
       "    <tr>\n",
       "      <th>...</th>\n",
       "      <td>...</td>\n",
       "      <td>...</td>\n",
       "      <td>...</td>\n",
       "      <td>...</td>\n",
       "      <td>...</td>\n",
       "      <td>...</td>\n",
       "      <td>...</td>\n",
       "      <td>...</td>\n",
       "      <td>...</td>\n",
       "    </tr>\n",
       "    <tr>\n",
       "      <th>495</th>\n",
       "      <td>sertania</td>\n",
       "      <td>-8.07</td>\n",
       "      <td>-37.26</td>\n",
       "      <td>61.29</td>\n",
       "      <td>92</td>\n",
       "      <td>80</td>\n",
       "      <td>6.24</td>\n",
       "      <td>BR</td>\n",
       "      <td>1595299601</td>\n",
       "    </tr>\n",
       "    <tr>\n",
       "      <th>496</th>\n",
       "      <td>kahului</td>\n",
       "      <td>20.89</td>\n",
       "      <td>-156.47</td>\n",
       "      <td>87.8</td>\n",
       "      <td>52</td>\n",
       "      <td>20</td>\n",
       "      <td>24.16</td>\n",
       "      <td>US</td>\n",
       "      <td>1595299344</td>\n",
       "    </tr>\n",
       "    <tr>\n",
       "      <th>497</th>\n",
       "      <td>partizansk</td>\n",
       "      <td>43.13</td>\n",
       "      <td>133.13</td>\n",
       "      <td>83.08</td>\n",
       "      <td>47</td>\n",
       "      <td>73</td>\n",
       "      <td>10.11</td>\n",
       "      <td>RU</td>\n",
       "      <td>1595299602</td>\n",
       "    </tr>\n",
       "    <tr>\n",
       "      <th>498</th>\n",
       "      <td>yarada</td>\n",
       "      <td>17.65</td>\n",
       "      <td>83.27</td>\n",
       "      <td>84.2</td>\n",
       "      <td>83</td>\n",
       "      <td>40</td>\n",
       "      <td>8.05</td>\n",
       "      <td>IN</td>\n",
       "      <td>1595299602</td>\n",
       "    </tr>\n",
       "    <tr>\n",
       "      <th>499</th>\n",
       "      <td>talcahuano</td>\n",
       "      <td>-36.72</td>\n",
       "      <td>-73.12</td>\n",
       "      <td>48.2</td>\n",
       "      <td>93</td>\n",
       "      <td>90</td>\n",
       "      <td>6.93</td>\n",
       "      <td>CL</td>\n",
       "      <td>1595299579</td>\n",
       "    </tr>\n",
       "  </tbody>\n",
       "</table>\n",
       "<p>500 rows × 9 columns</p>\n",
       "</div>"
      ],
      "text/plain": [
       "      City Name Latitude Longitude Maximum Temperature Humidity Cloudiness  \\\n",
       "0         chara    56.91    118.26               57.49       66        100   \n",
       "1          ayan    56.45    138.17               52.38       94        100   \n",
       "2        tiznit    29.58      -9.5                71.1       52          1   \n",
       "3     hithadhoo     -0.6     73.08               84.02       77        100   \n",
       "4     loandjili    -4.76     11.86               71.33       89         39   \n",
       "..          ...      ...       ...                 ...      ...        ...   \n",
       "495    sertania    -8.07    -37.26               61.29       92         80   \n",
       "496     kahului    20.89   -156.47                87.8       52         20   \n",
       "497  partizansk    43.13    133.13               83.08       47         73   \n",
       "498      yarada    17.65     83.27                84.2       83         40   \n",
       "499  talcahuano   -36.72    -73.12                48.2       93         90   \n",
       "\n",
       "    Wind Speed Country        Date  \n",
       "0         5.19      RU  1595299548  \n",
       "1        15.39      RU  1595299548  \n",
       "2         1.77      MA  1595299549  \n",
       "3        11.52      MV  1595299549  \n",
       "4         2.55      CG  1595299549  \n",
       "..         ...     ...         ...  \n",
       "495       6.24      BR  1595299601  \n",
       "496      24.16      US  1595299344  \n",
       "497      10.11      RU  1595299602  \n",
       "498       8.05      IN  1595299602  \n",
       "499       6.93      CL  1595299579  \n",
       "\n",
       "[500 rows x 9 columns]"
      ]
     },
     "execution_count": 6,
     "metadata": {},
     "output_type": "execute_result"
    }
   ],
   "source": [
    "#Show new Dataframe\n",
    "city_data.head(500)"
   ]
  },
  {
   "cell_type": "markdown",
   "metadata": {},
   "source": [
    "## Inspect the data and remove the cities where the humidity > 100%.\n",
    "----\n",
    "Skip this step if there are no cities that have humidity > 100%. "
   ]
  },
  {
   "cell_type": "code",
   "execution_count": 7,
   "metadata": {},
   "outputs": [],
   "source": [
    "#Create a dataframe for humitidies that are 100 or more\n",
    "humidity_ = city_data.loc[city_data[\"Humidity\"]>100]"
   ]
  },
  {
   "cell_type": "code",
   "execution_count": 8,
   "metadata": {},
   "outputs": [
    {
     "data": {
      "text/html": [
       "<div>\n",
       "<style scoped>\n",
       "    .dataframe tbody tr th:only-of-type {\n",
       "        vertical-align: middle;\n",
       "    }\n",
       "\n",
       "    .dataframe tbody tr th {\n",
       "        vertical-align: top;\n",
       "    }\n",
       "\n",
       "    .dataframe thead th {\n",
       "        text-align: right;\n",
       "    }\n",
       "</style>\n",
       "<table border=\"1\" class=\"dataframe\">\n",
       "  <thead>\n",
       "    <tr style=\"text-align: right;\">\n",
       "      <th></th>\n",
       "      <th>City Name</th>\n",
       "      <th>Latitude</th>\n",
       "      <th>Longitude</th>\n",
       "      <th>Maximum Temperature</th>\n",
       "      <th>Humidity</th>\n",
       "      <th>Cloudiness</th>\n",
       "      <th>Wind Speed</th>\n",
       "      <th>Country</th>\n",
       "      <th>Date</th>\n",
       "    </tr>\n",
       "  </thead>\n",
       "  <tbody>\n",
       "  </tbody>\n",
       "</table>\n",
       "</div>"
      ],
      "text/plain": [
       "Empty DataFrame\n",
       "Columns: [City Name, Latitude, Longitude, Maximum Temperature, Humidity, Cloudiness, Wind Speed, Country, Date]\n",
       "Index: []"
      ]
     },
     "execution_count": 8,
     "metadata": {},
     "output_type": "execute_result"
    }
   ],
   "source": [
    "#  Get the indices of cities that have humidity over 100%.\n",
    "#If blank, no data sets with humidites over 100\n",
    "humidity_"
   ]
  },
  {
   "cell_type": "code",
   "execution_count": 9,
   "metadata": {},
   "outputs": [],
   "source": [
    "# Make a new DataFrame equal to the city data to drop all humidity outliers by index.\n",
    "# Passing \"inplace=False\" will make a copy of the city_data DataFrame, which we call \"clean_city_data\".\n",
    "clean_city_data = city_data.loc[city_data[\"Humidity\"]<=100]"
   ]
  },
  {
   "cell_type": "code",
   "execution_count": 10,
   "metadata": {},
   "outputs": [],
   "source": [
    "# Extract relevant fields from the data frame\n",
    "clean_city_data\n",
    "\n",
    "# Export the City_Data into a csv\n",
    "clean_city_data.to_csv(\"../output_data/cities.csv\")"
   ]
  },
  {
   "cell_type": "code",
   "execution_count": 11,
   "metadata": {},
   "outputs": [
    {
     "data": {
      "text/html": [
       "<div>\n",
       "<style scoped>\n",
       "    .dataframe tbody tr th:only-of-type {\n",
       "        vertical-align: middle;\n",
       "    }\n",
       "\n",
       "    .dataframe tbody tr th {\n",
       "        vertical-align: top;\n",
       "    }\n",
       "\n",
       "    .dataframe thead th {\n",
       "        text-align: right;\n",
       "    }\n",
       "</style>\n",
       "<table border=\"1\" class=\"dataframe\">\n",
       "  <thead>\n",
       "    <tr style=\"text-align: right;\">\n",
       "      <th></th>\n",
       "      <th>City Name</th>\n",
       "      <th>Latitude</th>\n",
       "      <th>Longitude</th>\n",
       "      <th>Maximum Temperature</th>\n",
       "      <th>Humidity</th>\n",
       "      <th>Cloudiness</th>\n",
       "      <th>Wind Speed</th>\n",
       "      <th>Country</th>\n",
       "      <th>Date</th>\n",
       "    </tr>\n",
       "  </thead>\n",
       "  <tbody>\n",
       "    <tr>\n",
       "      <th>0</th>\n",
       "      <td>chara</td>\n",
       "      <td>56.91</td>\n",
       "      <td>118.26</td>\n",
       "      <td>57.49</td>\n",
       "      <td>66</td>\n",
       "      <td>100</td>\n",
       "      <td>5.19</td>\n",
       "      <td>RU</td>\n",
       "      <td>1595299548</td>\n",
       "    </tr>\n",
       "    <tr>\n",
       "      <th>1</th>\n",
       "      <td>ayan</td>\n",
       "      <td>56.45</td>\n",
       "      <td>138.17</td>\n",
       "      <td>52.38</td>\n",
       "      <td>94</td>\n",
       "      <td>100</td>\n",
       "      <td>15.39</td>\n",
       "      <td>RU</td>\n",
       "      <td>1595299548</td>\n",
       "    </tr>\n",
       "    <tr>\n",
       "      <th>2</th>\n",
       "      <td>tiznit</td>\n",
       "      <td>29.58</td>\n",
       "      <td>-9.5</td>\n",
       "      <td>71.1</td>\n",
       "      <td>52</td>\n",
       "      <td>1</td>\n",
       "      <td>1.77</td>\n",
       "      <td>MA</td>\n",
       "      <td>1595299549</td>\n",
       "    </tr>\n",
       "    <tr>\n",
       "      <th>3</th>\n",
       "      <td>hithadhoo</td>\n",
       "      <td>-0.6</td>\n",
       "      <td>73.08</td>\n",
       "      <td>84.02</td>\n",
       "      <td>77</td>\n",
       "      <td>100</td>\n",
       "      <td>11.52</td>\n",
       "      <td>MV</td>\n",
       "      <td>1595299549</td>\n",
       "    </tr>\n",
       "    <tr>\n",
       "      <th>4</th>\n",
       "      <td>loandjili</td>\n",
       "      <td>-4.76</td>\n",
       "      <td>11.86</td>\n",
       "      <td>71.33</td>\n",
       "      <td>89</td>\n",
       "      <td>39</td>\n",
       "      <td>2.55</td>\n",
       "      <td>CG</td>\n",
       "      <td>1595299549</td>\n",
       "    </tr>\n",
       "  </tbody>\n",
       "</table>\n",
       "</div>"
      ],
      "text/plain": [
       "   City Name Latitude Longitude Maximum Temperature Humidity Cloudiness  \\\n",
       "0      chara    56.91    118.26               57.49       66        100   \n",
       "1       ayan    56.45    138.17               52.38       94        100   \n",
       "2     tiznit    29.58      -9.5                71.1       52          1   \n",
       "3  hithadhoo     -0.6     73.08               84.02       77        100   \n",
       "4  loandjili    -4.76     11.86               71.33       89         39   \n",
       "\n",
       "  Wind Speed Country        Date  \n",
       "0       5.19      RU  1595299548  \n",
       "1      15.39      RU  1595299548  \n",
       "2       1.77      MA  1595299549  \n",
       "3      11.52      MV  1595299549  \n",
       "4       2.55      CG  1595299549  "
      ]
     },
     "execution_count": 11,
     "metadata": {},
     "output_type": "execute_result"
    }
   ],
   "source": [
    "clean_city_data.head()"
   ]
  },
  {
   "cell_type": "markdown",
   "metadata": {},
   "source": [
    "## Plotting the Data\n",
    "* Use proper labeling of the plots using plot titles (including date of analysis) and axes labels.\n",
    "* Save the plotted figures as .pngs."
   ]
  },
  {
   "cell_type": "code",
   "execution_count": 12,
   "metadata": {},
   "outputs": [],
   "source": [
    "#Variables\n",
    "latitude_data=clean_city_data[\"Latitude\"]\n",
    "temp_data=clean_city_data[\"Maximum Temperature\"]\n",
    "humidity_data=clean_city_data[\"Humidity\"]\n",
    "cloud_data=clean_city_data[\"Cloudiness\"]\n",
    "wind_data=clean_city_data[\"Wind Speed\"]\n"
   ]
  },
  {
   "cell_type": "markdown",
   "metadata": {},
   "source": [
    "## Latitude vs. Temperature Plot"
   ]
  },
  {
   "cell_type": "code",
   "execution_count": 13,
   "metadata": {
    "scrolled": true
   },
   "outputs": [
    {
     "data": {
      "image/png": "[encoded data removed]",
      "text/plain": [
       "<Figure size 432x288 with 1 Axes>"
      ]
     },
     "metadata": {
      "needs_background": "light"
     },
     "output_type": "display_data"
    }
   ],
   "source": [
    "#Plot Latitide versus Temperature\n",
    "plt.scatter(latitude_data, temp_data)\n",
    "plt.xlabel('Latitude')\n",
    "plt.ylabel('Temperature')\n",
    "\n",
    "#Save and Show\n",
    "plt.savefig('../output_data/latitude_temp.png')\n",
    "plt.show()"
   ]
  },
  {
   "cell_type": "markdown",
   "metadata": {},
   "source": [
    "## Latitude vs. Humidity Plot"
   ]
  },
  {
   "cell_type": "code",
   "execution_count": 14,
   "metadata": {},
   "outputs": [
    {
     "data": {
      "image/png": "[encoded data removed]",
      "text/plain": [
       "<Figure size 432x288 with 1 Axes>"
      ]
     },
     "metadata": {
      "needs_background": "light"
     },
     "output_type": "display_data"
    }
   ],
   "source": [
    "#Plot Latitide versus Humidity\n",
    "plt.scatter(latitude_data, humidity_data)\n",
    "\n",
    "#Save and Show\n",
    "plt.savefig('../output_data/latitude_humitidy.png')\n",
    "plt.show()"
   ]
  },
  {
   "cell_type": "markdown",
   "metadata": {},
   "source": [
    "## Latitude vs. Cloudiness Plot"
   ]
  },
  {
   "cell_type": "code",
   "execution_count": 15,
   "metadata": {},
   "outputs": [
    {
     "data": {
      "image/png": "[encoded data removed]",
      "text/plain": [
       "<Figure size 432x288 with 1 Axes>"
      ]
     },
     "metadata": {
      "needs_background": "light"
     },
     "output_type": "display_data"
    }
   ],
   "source": [
    "#Plot Latitide versus Cloudiness\n",
    "plt.scatter(latitude_data, cloud_data)\n",
    "plt.xlabel('Latitude')\n",
    "plt.ylabel('Cloudiness')\n",
    "\n",
    "#Save and show\n",
    "plt.savefig('../output_data/latitude_cloudiness.png')\n",
    "plt.show()"
   ]
  },
  {
   "cell_type": "markdown",
   "metadata": {},
   "source": [
    "## Latitude vs. Wind Speed Plot"
   ]
  },
  {
   "cell_type": "code",
   "execution_count": 16,
   "metadata": {},
   "outputs": [
    {
     "data": {
      "image/png": "[encoded data removed]",
      "text/plain": [
       "<Figure size 432x288 with 1 Axes>"
      ]
     },
     "metadata": {
      "needs_background": "light"
     },
     "output_type": "display_data"
    }
   ],
   "source": [
    "#Plot Latitide versus Wind Speed\n",
    "plt.scatter(latitude_data, wind_data)\n",
    "plt.xlabel('Latitude')\n",
    "plt.ylabel('Wind Speed')\n",
    "\n",
    "#Save and show\n",
    "plt.savefig('../output_data/latitude_wind.png')\n",
    "plt.show()"
   ]
  },
  {
   "cell_type": "markdown",
   "metadata": {},
   "source": [
    "## Linear Regression"
   ]
  },
  {
   "cell_type": "code",
   "execution_count": 17,
   "metadata": {},
   "outputs": [],
   "source": [
    "# OPTIONAL: Create a function to create Linear Regression plots"
   ]
  },
  {
   "cell_type": "code",
   "execution_count": 18,
   "metadata": {},
   "outputs": [],
   "source": [
    "# Create Northern and Southern Hemisphere DataFrames\n",
    "northern_data = clean_city_data.loc[clean_city_data[\"Latitude\"]>=0]\n",
    "sourthern_data = clean_city_data.loc[clean_city_data[\"Latitude\"]<=0]"
   ]
  },
  {
   "cell_type": "code",
   "execution_count": 19,
   "metadata": {},
   "outputs": [],
   "source": [
    "#Variables\n",
    "nlatitude_data=northern_data[\"Latitude\"]\n",
    "ntemp_data=northern_data[\"Maximum Temperature\"]\n",
    "nhumidity_data=northern_data[\"Humidity\"]\n",
    "ncloud_data=northern_data[\"Cloudiness\"]\n",
    "nwind_data=northern_data[\"Wind Speed\"]\n",
    "\n",
    "slatitude_data=sourthern_data[\"Latitude\"]\n",
    "stemp_data=sourthern_data[\"Maximum Temperature\"]\n",
    "shumidity_data=sourthern_data[\"Humidity\"]\n",
    "scloud_data=sourthern_data[\"Cloudiness\"]\n",
    "swind_data=sourthern_data[\"Wind Speed\"]\n"
   ]
  },
  {
   "cell_type": "markdown",
   "metadata": {},
   "source": [
    "####  Northern Hemisphere - Max Temp vs. Latitude Linear Regression"
   ]
  },
  {
   "cell_type": "code",
   "execution_count": 20,
   "metadata": {},
   "outputs": [
    {
     "name": "stdout",
     "output_type": "stream",
     "text": [
      "Linear Regression line: y = -0.42x +87.75\n",
      "r^2 value is 0.39\n"
     ]
    },
    {
     "data": {
      "image/png": "[encoded data removed]",
      "text/plain": [
       "<Figure size 432x288 with 1 Axes>"
      ]
     },
     "metadata": {
      "needs_background": "light"
     },
     "output_type": "display_data"
    }
   ],
   "source": [
    "#Create a linear regression for Northern Latitudes and Temperature\n",
    "nt_slope, nt_int, nt_r, nt_p, nt_std_err = st.linregress(nlatitude_data.astype(float),ntemp_data.astype(float))\n",
    "\n",
    "nt_line_eq = \"Linear Regression line: y = \" + str(round(nt_slope,2)) + \"x +\" + str(round(nt_int,2))\n",
    "print(nt_line_eq)\n",
    "\n",
    "print(\"r^2 value is \" +str(round((nt_r*nt_r),2)))\n",
    "\n",
    "#Plot Scatter\n",
    "plt.scatter(nlatitude_data, ntemp_data)\n",
    "\n",
    "#Plot Regression and add labels\n",
    "nt_fit= nt_slope*nlatitude_data+nt_int\n",
    "plt.plot(nlatitude_data, nt_fit, c=\"black\")\n",
    "plt.xlabel('Latitude')\n",
    "plt.ylabel('Max Temperature')\n",
    "\n",
    "#Save and show\n",
    "plt.savefig('../output_data/northern_temps.png')\n",
    "plt.show()"
   ]
  },
  {
   "cell_type": "code",
   "execution_count": 21,
   "metadata": {},
   "outputs": [],
   "source": [
    "#There is a moderate positive correlation between Northern latitudes and temperature."
   ]
  },
  {
   "cell_type": "markdown",
   "metadata": {},
   "source": [
    "####  Southern Hemisphere - Max Temp vs. Latitude Linear Regression"
   ]
  },
  {
   "cell_type": "code",
   "execution_count": 22,
   "metadata": {},
   "outputs": [
    {
     "name": "stdout",
     "output_type": "stream",
     "text": [
      "Linear Regression line: y = 0.65x +78.14\n",
      "r^2 value is 0.47\n"
     ]
    },
    {
     "data": {
      "image/png": "[encoded data removed]",
      "text/plain": [
       "<Figure size 432x288 with 1 Axes>"
      ]
     },
     "metadata": {
      "needs_background": "light"
     },
     "output_type": "display_data"
    }
   ],
   "source": [
    "#Create a linear regression for Southern Latitudes and Temperature\n",
    "st_slope, st_int, st_r, st_p, st_std_err = st.linregress(slatitude_data.astype(float), stemp_data.astype(float))\n",
    "\n",
    "st_line_eq = \"Linear Regression line: y = \" + str(round(st_slope,2)) + \"x +\" + str(round(st_int,2))\n",
    "print(st_line_eq)\n",
    "\n",
    "print(\"r^2 value is \" +str(round((st_r*st_r),2)))\n",
    "\n",
    "#Plot scatter\n",
    "plt.scatter(slatitude_data, stemp_data)\n",
    "\n",
    "#Plot Regression and add labels\n",
    "st_fit= st_slope*slatitude_data+st_int\n",
    "plt.plot(slatitude_data, st_fit, c=\"black\")\n",
    "plt.xlabel('Latitude')\n",
    "plt.ylabel('Max Temperature')\n",
    "\n",
    "#Save and show\n",
    "plt.savefig('../output_data/southern_temperature.png')\n",
    "plt.show()"
   ]
  },
  {
   "cell_type": "code",
   "execution_count": 23,
   "metadata": {},
   "outputs": [],
   "source": [
    "#There is a strong positive correlation between Southern latitudes and temperature."
   ]
  },
  {
   "cell_type": "markdown",
   "metadata": {},
   "source": [
    "####  Northern Hemisphere - Humidity (%) vs. Latitude Linear Regression"
   ]
  },
  {
   "cell_type": "code",
   "execution_count": 24,
   "metadata": {},
   "outputs": [
    {
     "name": "stdout",
     "output_type": "stream",
     "text": [
      "Linear Regression line: y = -0.07x +72.84\n",
      "r^2 value is 0.0\n"
     ]
    },
    {
     "data": {
      "image/png": "[encoded data removed]",
      "text/plain": [
       "<Figure size 432x288 with 1 Axes>"
      ]
     },
     "metadata": {
      "needs_background": "light"
     },
     "output_type": "display_data"
    }
   ],
   "source": [
    "#Create a linear regression for Northern Latitudes and Humidity \n",
    "nh_slope, nh_int, nh_r, nh_p, nh_std_err = st.linregress(nlatitude_data.astype(float), nhumidity_data.astype(float))\n",
    "\n",
    "nh_line_eq = \"Linear Regression line: y = \" + str(round(nh_slope,2)) + \"x +\" + str(round(nh_int,2))\n",
    "print(nh_line_eq)\n",
    "\n",
    "print(\"r^2 value is \" +str(round((nh_r*nh_r),2)))\n",
    "\n",
    "#Plot Scatter\n",
    "plt.scatter(nlatitude_data, nhumidity_data)\n",
    "\n",
    "#Plot Regression and add labels\n",
    "nh_fit= nh_slope*nlatitude_data+nh_int\n",
    "plt.plot(nlatitude_data, nh_fit, c=\"black\")\n",
    "plt.xlabel('Latitude')\n",
    "plt.ylabel('Humidity')\n",
    "\n",
    "#Save and show\n",
    "plt.savefig('../output_data/northern_humidity.png')\n",
    "plt.show()"
   ]
  },
  {
   "cell_type": "code",
   "execution_count": 25,
   "metadata": {},
   "outputs": [],
   "source": [
    "#There is a weak correlation between Northern latitudes and humidity."
   ]
  },
  {
   "cell_type": "markdown",
   "metadata": {},
   "source": [
    "####  Southern Hemisphere - Humidity (%) vs. Latitude Linear Regression"
   ]
  },
  {
   "cell_type": "code",
   "execution_count": 26,
   "metadata": {},
   "outputs": [
    {
     "name": "stdout",
     "output_type": "stream",
     "text": [
      "Linear Regression line: y = -0.06x +69.38\n",
      "r^2 value is 0.0\n"
     ]
    },
    {
     "data": {
      "image/png": "[encoded data removed]",
      "text/plain": [
       "<Figure size 432x288 with 1 Axes>"
      ]
     },
     "metadata": {
      "needs_background": "light"
     },
     "output_type": "display_data"
    }
   ],
   "source": [
    "#Create a linear regression for Southern Latitudes and Humidity \n",
    "sh_slope, sh_int, sh_r, sh_p, sh_std_err = st.linregress(slatitude_data.astype(float), shumidity_data.astype(float))\n",
    "\n",
    "sh_line_eq = \"Linear Regression line: y = \" + str(round(sh_slope,2)) + \"x +\" + str(round(sh_int,2))\n",
    "print(sh_line_eq)\n",
    "\n",
    "print(\"r^2 value is \" +str(round((sh_r*sh_r),2)))\n",
    "\n",
    "#Plot Scatter\n",
    "plt.scatter(slatitude_data, shumidity_data)\n",
    "\n",
    "#Plot Regression and add labels\n",
    "sh_fit= sh_slope*slatitude_data+sh_int\n",
    "plt.plot(slatitude_data, sh_fit, c=\"black\")\n",
    "plt.xlabel('Latitude')\n",
    "plt.ylabel('Humidity')\n",
    "\n",
    "#Save and show\n",
    "plt.savefig('../output_data/southern_humidity.png')\n",
    "plt.show()"
   ]
  },
  {
   "cell_type": "code",
   "execution_count": 27,
   "metadata": {},
   "outputs": [],
   "source": [
    "#There is a weak correlation between Southern latitudes and humidity."
   ]
  },
  {
   "cell_type": "markdown",
   "metadata": {},
   "source": [
    "####  Northern Hemisphere - Cloudiness (%) vs. Latitude Linear Regression"
   ]
  },
  {
   "cell_type": "code",
   "execution_count": 28,
   "metadata": {},
   "outputs": [
    {
     "name": "stdout",
     "output_type": "stream",
     "text": [
      "Linear Regression line: y = -0.11x +59.36\n",
      "r^2 value is 0.0\n"
     ]
    },
    {
     "data": {
      "image/png": "[encoded data removed]",
      "text/plain": [
       "<Figure size 432x288 with 1 Axes>"
      ]
     },
     "metadata": {
      "needs_background": "light"
     },
     "output_type": "display_data"
    }
   ],
   "source": [
    "#Create a linear regression for Northern Latitudes and Cloudiness\n",
    "nc_slope, nc_int, nc_r, nc_p, nc_std_err = st.linregress(nlatitude_data.astype(float), ncloud_data.astype(float))\n",
    "\n",
    "nc_line_eq = \"Linear Regression line: y = \" + str(round(nc_slope,2)) + \"x +\" + str(round(nc_int,2))\n",
    "print(nc_line_eq)\n",
    "\n",
    "print(\"r^2 value is \" +str(round((nc_r*nc_r),2)))\n",
    "\n",
    "#Plot Scatter\n",
    "plt.scatter(nlatitude_data, ncloud_data)\n",
    "\n",
    "#Plot Regression and add labels\n",
    "nc_fit= nc_slope*nlatitude_data+nc_int\n",
    "plt.plot(nlatitude_data, nc_fit, c=\"black\")\n",
    "plt.xlabel('Latitude')\n",
    "plt.ylabel('Cloudiness')\n",
    "\n",
    "#Save and show\n",
    "plt.savefig('../output_data/northern_cloudiness.png')\n",
    "plt.show()"
   ]
  },
  {
   "cell_type": "code",
   "execution_count": 29,
   "metadata": {},
   "outputs": [],
   "source": [
    "#There is a weak correlation between Northern latitudes and cloudiness."
   ]
  },
  {
   "cell_type": "markdown",
   "metadata": {},
   "source": [
    "####  Southern Hemisphere - Cloudiness (%) vs. Latitude Linear Regression"
   ]
  },
  {
   "cell_type": "code",
   "execution_count": 30,
   "metadata": {},
   "outputs": [
    {
     "name": "stdout",
     "output_type": "stream",
     "text": [
      "Linear Regression line: y = -0.34x +40.6\n",
      "r^2 value is 0.01\n"
     ]
    },
    {
     "data": {
      "image/png": "[encoded data removed]",
      "text/plain": [
       "<Figure size 432x288 with 1 Axes>"
      ]
     },
     "metadata": {
      "needs_background": "light"
     },
     "output_type": "display_data"
    }
   ],
   "source": [
    "#Create a linear regression for Southern Latitudes and Cloudiness\n",
    "sc_slope, sc_int, sc_r, sc_p, sc_std_err = st.linregress(slatitude_data.astype(float), scloud_data.astype(float))\n",
    "\n",
    "sc_line_eq = \"Linear Regression line: y = \" + str(round(sc_slope,2)) + \"x +\" + str(round(sc_int,2))\n",
    "print(sc_line_eq)\n",
    "\n",
    "print(\"r^2 value is \" +str(round((sc_r*sc_r),2)))\n",
    "\n",
    "#Plot Scatter\n",
    "plt.scatter(slatitude_data, scloud_data)\n",
    "\n",
    "#Plot Regression and add labels\n",
    "sc_fit= sc_slope*slatitude_data+sc_int\n",
    "plt.plot(slatitude_data, sc_fit, c=\"black\")\n",
    "plt.xlabel('Latitude')\n",
    "plt.ylabel('Cloudiness')\n",
    "\n",
    "#Save and show\n",
    "plt.savefig('../output_data/southern_cloudiness.png')\n",
    "plt.show()"
   ]
  },
  {
   "cell_type": "code",
   "execution_count": 31,
   "metadata": {},
   "outputs": [],
   "source": [
    "#There is a weak correlation between Southern latitudes and cloudiness."
   ]
  },
  {
   "cell_type": "markdown",
   "metadata": {},
   "source": [
    "####  Northern Hemisphere - Wind Speed (mph) vs. Latitude Linear Regression"
   ]
  },
  {
   "cell_type": "code",
   "execution_count": 32,
   "metadata": {},
   "outputs": [
    {
     "name": "stdout",
     "output_type": "stream",
     "text": [
      "Linear Regression line: y = 0.01x +6.98\n",
      "r^2 value is 0.0\n"
     ]
    },
    {
     "data": {
      "image/png": "[encoded data removed]",
      "text/plain": [
       "<Figure size 432x288 with 1 Axes>"
      ]
     },
     "metadata": {
      "needs_background": "light"
     },
     "output_type": "display_data"
    }
   ],
   "source": [
    "#Create a linear regression for Northern Latitudes and Wind Speed\n",
    "nw_slope, nw_int, nw_r, nw_p, nw_std_err = st.linregress(nlatitude_data.astype(float), nwind_data.astype(float))\n",
    "\n",
    "nw_line_eq = \"Linear Regression line: y = \" + str(round(nw_slope,2)) + \"x +\" + str(round(nw_int,2))\n",
    "print(nw_line_eq)\n",
    "\n",
    "print(\"r^2 value is \" +str(round((nw_r*nw_r),2)))\n",
    "\n",
    "#Plot Scatter\n",
    "plt.scatter(nlatitude_data, nwind_data)\n",
    "\n",
    "#Plot Regression and add labels\n",
    "nw_fit= nw_slope*nlatitude_data+nw_int\n",
    "plt.plot(nlatitude_data, nw_fit, c=\"black\")\n",
    "plt.xlabel('Latitude')\n",
    "plt.ylabel('Wind Speed')\n",
    "\n",
    "#Save and show\n",
    "plt.savefig('../output_data/northern_wind_speed.png')\n",
    "plt.show()"
   ]
  },
  {
   "cell_type": "code",
   "execution_count": 33,
   "metadata": {},
   "outputs": [],
   "source": [
    "#There is a weak correlation between Northern latitudes and wind speed."
   ]
  },
  {
   "cell_type": "markdown",
   "metadata": {},
   "source": [
    "####  Southern Hemisphere - Wind Speed (mph) vs. Latitude Linear Regression"
   ]
  },
  {
   "cell_type": "code",
   "execution_count": 34,
   "metadata": {},
   "outputs": [
    {
     "name": "stdout",
     "output_type": "stream",
     "text": [
      "Linear Regression line: y = -0.06x +6.34\n",
      "r^2 value is 0.02\n"
     ]
    },
    {
     "data": {
      "image/png": "[encoded data removed]",
      "text/plain": [
       "<Figure size 432x288 with 1 Axes>"
      ]
     },
     "metadata": {
      "needs_background": "light"
     },
     "output_type": "display_data"
    }
   ],
   "source": [
    "#Create a linear regression for Southern Latitudes and Wind Speed\n",
    "sw_slope, sw_int, sw_r, sw_p, sw_std_err = st.linregress(slatitude_data.astype(float), swind_data.astype(float))\n",
    "\n",
    "sw_line_eq = \"Linear Regression line: y = \" + str(round(sw_slope,2)) + \"x +\" + str(round(sw_int,2))\n",
    "print(sw_line_eq)\n",
    "\n",
    "print(\"r^2 value is \" +str(round((sw_r*sw_r),2)))\n",
    "\n",
    "#Plot Scatter\n",
    "plt.scatter(slatitude_data, swind_data)\n",
    "#Plot Regression and add labels\n",
    "sw_fit= sw_slope*slatitude_data+sw_int\n",
    "plt.plot(slatitude_data, sw_fit, c=\"black\")\n",
    "plt.xlabel('Latitude')\n",
    "plt.ylabel('Wind Speed')\n",
    "plt.show()"
   ]
  },
  {
   "cell_type": "code",
   "execution_count": null,
   "metadata": {},
   "outputs": [],
   "source": [
    "#There is a weak correlation between Southern latitudes and wind speed."
   ]
  }
 ],
 "metadata": {
  "anaconda-cloud": {},
  "kernel_info": {
   "name": "python3"
  },
  "kernelspec": {
   "display_name": "Python 3",
   "language": "python",
   "name": "python3"
  },
  "language_info": {
   "codemirror_mode": {
    "name": "ipython",
    "version": 3
   },
   "file_extension": ".py",
   "mimetype": "text/x-python",
   "name": "python",
   "nbconvert_exporter": "python",
   "pygments_lexer": "ipython3",
   "version": "3.7.6"
  },
  "latex_envs": {
   "LaTeX_envs_menu_present": true,
   "autoclose": false,
   "autocomplete": true,
   "bibliofile": "biblio.bib",
   "cite_by": "apalike",
   "current_citInitial": 1,
   "eqLabelWithNumbers": true,
   "eqNumInitial": 1,
   "hotkeys": {
    "equation": "Ctrl-E",
    "itemize": "Ctrl-I"
   },
   "labels_anchors": false,
   "latex_user_defs": false,
   "report_style_numbering": false,
   "user_envs_cfg": false
  },
  "nteract": {
   "version": "0.12.3"
  }
 },
 "nbformat": 4,
 "nbformat_minor": 2
}
